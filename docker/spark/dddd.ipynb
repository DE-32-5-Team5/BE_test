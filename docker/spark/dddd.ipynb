{
 "cells": [
  {
   "cell_type": "code",
   "execution_count": 1,
   "id": "7e1fca49-bc72-4f0a-824d-8dec4beaec74",
   "metadata": {},
   "outputs": [
    {
     "name": "stderr",
     "output_type": "stream",
     "text": [
      "24/12/04 14:56:15 WARN Utils: Your hostname, BOOK-BBL4JGF8RN resolves to a loopback address: 127.0.1.1; using 10.255.255.254 instead (on interface lo)\n",
      "24/12/04 14:56:15 WARN Utils: Set SPARK_LOCAL_IP if you need to bind to another address\n",
      "24/12/04 14:56:15 WARN NativeCodeLoader: Unable to load native-hadoop library for your platform... using builtin-java classes where applicable\n",
      "Setting default log level to \"WARN\".\n",
      "To adjust logging level use sc.setLogLevel(newLevel). For SparkR, use setLogLevel(newLevel).\n",
      "24/12/04 14:56:17 WARN Utils: Service 'SparkUI' could not bind on port 4040. Attempting port 4041.\n"
     ]
    },
    {
     "name": "stdin",
     "output_type": "stream",
     "text": [
      "input ip adress :  43.203.132.45\n",
      "input db pw code :  samdul2024$\n"
     ]
    },
    {
     "name": "stderr",
     "output_type": "stream",
     "text": [
      "[Stage 0:>                                                          (0 + 1) / 1]\r"
     ]
    },
    {
     "name": "stdout",
     "output_type": "stream",
     "text": [
      "['{\"park_id\":\"신천무궁화아파트\",\"park_nm\":\"32442-29391-00004-00-1\",\"park_addr\":\"월계천길286 (신천무궁화아파트)\",\"park_lo\":36.6038,\"park_la\":126.666}']\n"
     ]
    },
    {
     "name": "stderr",
     "output_type": "stream",
     "text": [
      "                                                                                \r"
     ]
    }
   ],
   "source": [
    "from pyspark.sql import SparkSession\n",
    "\n",
    "# Docker 내 Spark Master의 IP 주소 (Spark Master 컨테이너의 IP를 확인)\n",
    "spark = SparkSession.builder \\\n",
    "        .config(\"spark.jars\",\n",
    "                \"./mysql-connector-j-9.1.0/mysql-connector-j-9.1.0.jar\") \\\n",
    "        .appName(\"PySpark Example\") \\\n",
    "        .master(\"spark://172.19.0.2:7077\").getOrCreate()\n",
    "\n",
    "ip = input(\"input ip adress : \")\n",
    "port = \"6033\" \n",
    "user = \"root\"\n",
    "passwd = input(\"input db pw code : \")\n",
    "db = \"parkingissue\"\n",
    "table_name = \"parkingarea_info\"\n",
    "\n",
    "lo = 37.5176288053129\n",
    "la = 127.086737282438\n",
    "\n",
    "lo_m = lo - 0.009\n",
    "lo_p = lo + 0.009\n",
    "\n",
    "la_m = la - 0.0103\n",
    "la_p = la + 0.0103\n",
    "\n",
    "# PySpark 코드 실행\n",
    "sql = f\"\"\"\n",
    "SELECT park_id, park_nm, park_addr, park_lo, park_la \n",
    "FROM parkingarea_info\n",
    "WHERE park_addr LIKE \"%무궁화%\"\n",
    "\"\"\"\n",
    "#WHERE park_lo BETWEEN {lo_m} AND {lo_p}\n",
    "#AND park_la BETWEEN {la_m} AND {la_p}\n",
    "\n",
    "df = spark.read.format(\"jdbc\") \\\n",
    "                .option(\"url\", f\"jdbc:mysql://{ip}:{port}/{db}\") \\\n",
    "                .option(\"driver\", \"com.mysql.cj.jdbc.Driver\") \\\n",
    "                .option(\"query\", sql) \\\n",
    "                .option(\"user\", user) \\\n",
    "                .option(\"password\", passwd) \\\n",
    "                .load()\n",
    "\n",
    "result = df.toJSON().collect()\n",
    "print(result)"
   ]
  }
 ],
 "metadata": {
  "kernelspec": {
   "display_name": "Python 3 (ipykernel)",
   "language": "python",
   "name": "python3"
  },
  "language_info": {
   "codemirror_mode": {
    "name": "ipython",
    "version": 3
   },
   "file_extension": ".py",
   "mimetype": "text/x-python",
   "name": "python",
   "nbconvert_exporter": "python",
   "pygments_lexer": "ipython3",
   "version": "3.10.12"
  }
 },
 "nbformat": 4,
 "nbformat_minor": 5
}
